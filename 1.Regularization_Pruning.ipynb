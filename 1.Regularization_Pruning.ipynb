{
 "cells": [
  {
   "cell_type": "markdown",
   "metadata": {},
   "source": [
    "# Adding a regularizer"
   ]
  },
  {
   "cell_type": "markdown",
   "metadata": {},
   "source": [
    "<img src=\"images/reg1.png\">\n",
    "\n",
    "While our loss function allows us to determine how well (or poorly) our set of parameters (i.e., weight matrix, and bias vector) are performing on a given classification task, the loss function itself does not take into account how the weight matrix “looks”. This brings us to the following queations.  How do we go about choosing a set of parameters that will help ensure our model generalizes well? Or at the very least, lessen the affects of overfitting?\n",
    "\n",
    "The answer is <b>regularization.</b>\n",
    "\n",
    "This notebook is divided into two parts. In the first part we will observe the behaviour of the weight space after adding adding a regularization term while in the second part, we will use some property of the learnt weight space to remove redundant connections.\n",
    "\n",
    "Let us begin by our regular import statements."
   ]
  },
  {
   "cell_type": "code",
   "execution_count": 1,
   "metadata": {
    "collapsed": true
   },
   "outputs": [],
   "source": [
    "import numpy as np\n",
    "import torch \n",
    "import torchvision\n",
    "import torch.nn as nn\n",
    "import torchvision.datasets as dsets\n",
    "import torchvision.transforms as transforms\n",
    "from torch.autograd import Variable\n",
    "%matplotlib inline\n",
    "import matplotlib.pyplot as plt"
   ]
  },
  {
   "cell_type": "markdown",
   "metadata": {},
   "source": [
    "### Hyperparameters to be used"
   ]
  },
  {
   "cell_type": "code",
   "execution_count": 2,
   "metadata": {
    "collapsed": true
   },
   "outputs": [],
   "source": [
    "num_epochs = 5\n",
    "batch_size = 100\n",
    "learning_rate = 0.001\n",
    "use_reg = False"
   ]
  },
  {
   "cell_type": "markdown",
   "metadata": {},
   "source": [
    "### Downloading the MNIST Dataset"
   ]
  },
  {
   "cell_type": "code",
   "execution_count": 3,
   "metadata": {
    "collapsed": false
   },
   "outputs": [
    {
     "name": "stdout",
     "output_type": "stream",
     "text": [
      "Files already downloaded\n"
     ]
    }
   ],
   "source": [
    "train_dataset = dsets.MNIST(root='../../data/lab6',\n",
    "                            train=True, \n",
    "                            transform=transforms.ToTensor(),\n",
    "                            download=True)\n",
    "\n",
    "test_dataset = dsets.MNIST(root='../../data/lab6',\n",
    "                           train=False, \n",
    "                           transform=transforms.ToTensor())"
   ]
  },
  {
   "cell_type": "markdown",
   "metadata": {},
   "source": [
    "### Dataloader"
   ]
  },
  {
   "cell_type": "code",
   "execution_count": 4,
   "metadata": {
    "collapsed": true
   },
   "outputs": [],
   "source": [
    "train_loader = torch.utils.data.DataLoader(dataset=train_dataset,\n",
    "                                           batch_size=batch_size, \n",
    "                                           shuffle=True)\n",
    "\n",
    "test_loader = torch.utils.data.DataLoader(dataset=test_dataset,\n",
    "                                          batch_size=batch_size, \n",
    "                                          shuffle=False)"
   ]
  },
  {
   "cell_type": "markdown",
   "metadata": {},
   "source": [
    "### Defining the network"
   ]
  },
  {
   "cell_type": "code",
   "execution_count": 5,
   "metadata": {
    "collapsed": true
   },
   "outputs": [],
   "source": [
    "class Net(nn.Module):\n",
    "    def __init__(self):\n",
    "        super(Net, self).__init__()\n",
    "        self.layer1 = nn.Sequential(\n",
    "            nn.Conv2d(1, 16, kernel_size=5, padding=2),\n",
    "            nn.BatchNorm2d(16),\n",
    "            nn.ReLU())\n",
    "        self.layer2 = nn.Sequential(\n",
    "            nn.Conv2d(16, 16, kernel_size=3, padding=1),\n",
    "            nn.BatchNorm2d(16),\n",
    "            nn.ReLU(),\n",
    "            nn.MaxPool2d(2))\n",
    "        self.layer3 = nn.Sequential(\n",
    "            nn.Conv2d(16, 32, kernel_size=3, padding=1),\n",
    "            nn.BatchNorm2d(32),\n",
    "            nn.ReLU(),\n",
    "            nn.MaxPool2d(2))\n",
    "        self.fc1 = nn.Linear(7*7*32, 300)\n",
    "        self.fc2 = nn.Linear(300, 10)\n",
    "        \n",
    "    def forward(self, x):\n",
    "        out = self.layer1(x)\n",
    "        out = self.layer2(out)\n",
    "        out = self.layer3(out)\n",
    "        out = out.view(out.size(0), -1)\n",
    "        out = self.fc1(out)\n",
    "        out = self.fc2(out)\n",
    "        return out"
   ]
  },
  {
   "cell_type": "markdown",
   "metadata": {},
   "source": [
    "<b>The below function is called to reinitialize the weights of the network and define the required loss criterion and the optimizer.</b> "
   ]
  },
  {
   "cell_type": "code",
   "execution_count": 6,
   "metadata": {
    "collapsed": true
   },
   "outputs": [],
   "source": [
    "def reset_model():\n",
    "    net = Net()\n",
    "    net = net.cuda()\n",
    "\n",
    "    # Loss and Optimizer\n",
    "    criterion = nn.CrossEntropyLoss()\n",
    "    optimizer = torch.optim.Adam(net.parameters(), lr=learning_rate)\n",
    "    return net,criterion,optimizer"
   ]
  },
  {
   "cell_type": "markdown",
   "metadata": {},
   "source": [
    "### L1 Regularization\n",
    "\n",
    "Here, we define a L1 Regularizer and add it to our loss function. The L1 Regularization term basically adds a penalty, equivalent to the absolute value of the magnitude of the weights. This ensures that the magnitude of the weights do not become too high.\n",
    "\n",
    "We have seen in the previous lectures that adding the L1 regularizer ensures sparsity. This is important becuase our ultimate aim is to prune connections from our network. That would mean we should try to make as many weights extremely close to 0 as possible. Thus, adding this penalty term ensures sparsity. The L1 Regularizer is also known as Lass Regression and it can be defined as follows:\n",
    "\n",
    "$$P=\\lambda*\\sum_{i=1}^{n}|\\theta_{i}-0|$$"
   ]
  },
  {
   "cell_type": "code",
   "execution_count": 7,
   "metadata": {
    "collapsed": true
   },
   "outputs": [],
   "source": [
    "def l1_regularizer(net, loss, beta):\n",
    "    l1_crit = nn.L1Loss(size_average=False)\n",
    "    reg_loss = 0\n",
    "    for param in net.parameters():\n",
    "        target = Variable((torch.FloatTensor(param.size()).zero_()).cuda())\n",
    "        reg_loss += l1_crit(param, target)\n",
    "        \n",
    "    loss += beta * reg_loss\n",
    "    return loss"
   ]
  },
  {
   "cell_type": "markdown",
   "metadata": {},
   "source": [
    "### Initializing the model"
   ]
  },
  {
   "cell_type": "code",
   "execution_count": 8,
   "metadata": {
    "collapsed": true
   },
   "outputs": [],
   "source": [
    "net, criterion, optimizer = reset_model()"
   ]
  },
  {
   "cell_type": "markdown",
   "metadata": {},
   "source": [
    "### Defining the training function"
   ]
  },
  {
   "cell_type": "code",
   "execution_count": 9,
   "metadata": {
    "collapsed": false
   },
   "outputs": [],
   "source": [
    "# Train the Model\n",
    "\n",
    "def training(net, reset = True):\n",
    "    if reset == True:\n",
    "        net, criterion, optimizer = reset_model()\n",
    "    else:\n",
    "        criterion = nn.CrossEntropyLoss()\n",
    "        optimizer = torch.optim.Adam(net.parameters(), lr=learning_rate)\n",
    "    \n",
    "    net.train()\n",
    "    for epoch in range(num_epochs):\n",
    "        total_loss = 0\n",
    "        accuracy = []\n",
    "        for i, (images, labels) in enumerate(train_loader):\n",
    "            images = images.cuda()\n",
    "            labels = labels.cuda()\n",
    "            temp_labels = labels\n",
    "            images = Variable(images)\n",
    "            labels = Variable(labels)\n",
    "\n",
    "            # Forward + Backward + Optimize\n",
    "            optimizer.zero_grad()\n",
    "            outputs = net(images)\n",
    "            loss = criterion(outputs, labels)\n",
    "\n",
    "            if use_reg == True :\n",
    "                loss = l1_regularizer(net,loss,beta=0.001)\n",
    "\n",
    "            loss.backward()\n",
    "            optimizer.step()\n",
    "\n",
    "            total_loss += loss.data[0]\n",
    "            _, predicted = torch.max(outputs.data, 1)\n",
    "            correct = (predicted == temp_labels).sum()\n",
    "            accuracy.append(correct/float(batch_size))\n",
    "\n",
    "        print('Epoch: %d, Loss: %.4f, Accuracy: %.4f' %(epoch+1,total_loss, (sum(accuracy)/float(len(accuracy)))))\n",
    "    \n",
    "    return net"
   ]
  },
  {
   "cell_type": "markdown",
   "metadata": {},
   "source": [
    "### Defining the testing function"
   ]
  },
  {
   "cell_type": "code",
   "execution_count": 10,
   "metadata": {
    "collapsed": false
   },
   "outputs": [],
   "source": [
    "# Test the Model\n",
    "def testing(net):\n",
    "    net.eval() \n",
    "    correct = 0\n",
    "    total = 0\n",
    "    for images, labels in test_loader:\n",
    "        images = images.cuda()\n",
    "        labels = labels.cuda()\n",
    "        images = Variable(images)\n",
    "        outputs = net(images)\n",
    "        _, predicted = torch.max(outputs.data, 1)\n",
    "        total += labels.size(0)\n",
    "        correct += (predicted == labels).sum()\n",
    "\n",
    "    print('Test Accuracy of the network on the 10000 test images: %.2f %%' % (100.0 * correct / total))"
   ]
  },
  {
   "cell_type": "markdown",
   "metadata": {},
   "source": [
    "### Training and testing the network"
   ]
  },
  {
   "cell_type": "code",
   "execution_count": 11,
   "metadata": {
    "collapsed": false
   },
   "outputs": [
    {
     "name": "stdout",
     "output_type": "stream",
     "text": [
      "Epoch: 1, Loss: 76.9376, Accuracy: 0.9601\n",
      "Epoch: 2, Loss: 31.5871, Accuracy: 0.9838\n",
      "Epoch: 3, Loss: 24.2360, Accuracy: 0.9877\n",
      "Epoch: 4, Loss: 20.0203, Accuracy: 0.9893\n",
      "Epoch: 5, Loss: 17.0307, Accuracy: 0.9907\n",
      "Test Accuracy of the network on the 10000 test images: 97.88 %\n"
     ]
    }
   ],
   "source": [
    "reset = True\n",
    "net = training(net, reset)\n",
    "testing(net)"
   ]
  },
  {
   "cell_type": "markdown",
   "metadata": {},
   "source": [
    "### Function for plotting the weight distribution\n",
    "\n",
    "We want to plot the weights learnt during training and we define the following function to do so. It is important to note that in order ro achieve smoothness in the behaviour of the plot we use 256 clusters here where the nearest weight values are rounded to. Feel free to experiment with defining lesser number of clusters for the weight distribution approximation. However, the plot may not be as smooth. \n",
    "\n",
    "We plot the cluster values in the x-axis and the frequency of the weights in the y-axis."
   ]
  },
  {
   "cell_type": "code",
   "execution_count": 12,
   "metadata": {
    "collapsed": true
   },
   "outputs": [],
   "source": [
    "def weightdistribution(weights):\n",
    "    maxim= np.amax(weights)\n",
    "    print(\"Maximum value of learnt weights: \" + str(maxim))\n",
    "    \n",
    "    minim= np.amin(weights)\n",
    "    print(\"Minimum value of learnt weights: \" + str(minim))\n",
    "    \n",
    "    step= (maxim-minim)/255\n",
    "    freq= np.zeros(256)\n",
    "    steps=[]\n",
    "\n",
    "    for i in range(0,256):\n",
    "        steps.append(minim)\n",
    "        minim+=step\n",
    "    \n",
    "    m = weights.shape[0]\n",
    "    \n",
    "    for i in range(0,m):\n",
    "        e= weights[i]\n",
    "        dist= (steps-e)**2\n",
    "        freq[np.argmin(dist)]+=1\n",
    "    \n",
    "        \n",
    "    plt.plot(steps,list(freq))\n",
    "    plt.show()"
   ]
  },
  {
   "cell_type": "code",
   "execution_count": 13,
   "metadata": {
    "collapsed": false
   },
   "outputs": [
    {
     "name": "stdout",
     "output_type": "stream",
     "text": [
      "Maximum value of learnt weights: 0.256358\n",
      "Minimum value of learnt weights: -0.243942\n"
     ]
    },
    {
     "data": {
      "image/png": "[encoded data removed]",
      "text/plain": [
       "<matplotlib.figure.Figure at 0x7fc425cc7c10>"
      ]
     },
     "metadata": {},
     "output_type": "display_data"
    },
    {
     "name": "stdout",
     "output_type": "stream",
     "text": [
      "Maximum value of learnt weights: 0.240329\n",
      "Minimum value of learnt weights: -0.241281\n"
     ]
    },
    {
     "data": {
      "image/png": "[encoded data removed]",
      "text/plain": [
       "<matplotlib.figure.Figure at 0x7fc422554f90>"
      ]
     },
     "metadata": {},
     "output_type": "display_data"
    },
    {
     "name": "stdout",
     "output_type": "stream",
     "text": [
      "Maximum value of learnt weights: 0.109042\n",
      "Minimum value of learnt weights: -0.133228\n"
     ]
    },
    {
     "data": {
      "image/png": "[encoded data removed]",
      "text/plain": [
       "<matplotlib.figure.Figure at 0x7fc4222923d0>"
      ]
     },
     "metadata": {},
     "output_type": "display_data"
    }
   ],
   "source": [
    "weightdistribution(net.state_dict()['layer2.0.weight'].cpu().numpy().flatten())\n",
    "weightdistribution(net.state_dict()['fc1.weight'].cpu().numpy().flatten())\n",
    "weightdistribution(net.state_dict()['fc2.weight'].cpu().numpy().flatten())"
   ]
  },
  {
   "cell_type": "markdown",
   "metadata": {},
   "source": [
    "### Defining the pruning function\n",
    "\n",
    "We use a threshold based criteria to remove certain connections in the networks which fall within a threshold value. Hence, we define a function which takes the network as input and a vlaue for threshold and forces those connections to be 0 which fall with the threshold given by the following equation.\n",
    "\n",
    "$$\n",
    "\\begin{equation}\n",
    " W_{i} = \n",
    " \\begin{cases} \n",
    "      W_{i} & W_{i} < -\\theta \\\\\n",
    "      0 & -\\theta\\leq W_{i}\\leq \\theta \\\\\n",
    "      W_{i} & \\theta < W_{i} \n",
    "  \\end{cases}\n",
    "\\end{equation}\n",
    "$$\n",
    "\n",
    "We prune both the weights and biases of Convolution layers, Fully Connected layers and the Batch Normalization layers"
   ]
  },
  {
   "cell_type": "code",
   "execution_count": 14,
   "metadata": {
    "collapsed": false
   },
   "outputs": [],
   "source": [
    "def prune_weight(net, threshold):\n",
    "    \n",
    "    for m in net.modules():\n",
    "        if isinstance(m,nn.Conv2d) or isinstance(m,nn.BatchNorm2d) or isinstance(m,nn.Linear):\n",
    "\n",
    "            temp_weight = m.weight.data.cpu().numpy()\n",
    "            dims = temp_weight.shape\n",
    "            print('WEIGHT ',dims)\n",
    "            print(\"Before pruning------->\")\n",
    "            print(np.count_nonzero(temp_weight))\n",
    "\n",
    "            temp_weight = temp_weight.flatten()\n",
    "\n",
    "            [x1,x2]=((np.where(np.all([[(-1*threshold) < (temp_weight)] , [(temp_weight) < threshold]],axis=0))))\n",
    "            temp_weight[x2] = 0\n",
    "            temp_weight = np.reshape(temp_weight,dims)\n",
    "            print(\"After pruning------->\")\n",
    "            print(np.count_nonzero(temp_weight))\n",
    "            print('-------------------------------------------------------------------------------')\n",
    "            m.weight.data = (torch.FloatTensor(temp_weight).cuda())\n",
    "\n",
    "            temp_bias = m.bias.data.cpu().numpy()\n",
    "            dims = temp_bias.shape\n",
    "            print('BIAS ',dims)\n",
    "            print(\"Before pruning------->\")\n",
    "            print(np.count_nonzero(temp_bias))\n",
    "\n",
    "            temp_bias = temp_bias.flatten()\n",
    "\n",
    "            [x1,x2]=((np.where(np.all([[(-1*threshold) < (temp_bias)] , [(temp_bias) < threshold]],axis=0))))\n",
    "            temp_bias[x2] = 0\n",
    "            temp_bias = np.reshape(temp_bias,dims)\n",
    "            print(\"After pruning------->\")\n",
    "            print(np.count_nonzero(temp_bias))\n",
    "            print('-------------------------------------------------------------------------------')\n",
    "            m.bias.data = (torch.FloatTensor(temp_bias).cuda())\n",
    "\n",
    "# for m in net.modules():\n",
    "#     if isinstance(m,nn.Conv2d):\n",
    "#         print m.bias.data\n",
    "  "
   ]
  },
  {
   "cell_type": "markdown",
   "metadata": {},
   "source": [
    "Here, we check how many connetions have been pruned"
   ]
  },
  {
   "cell_type": "code",
   "execution_count": 15,
   "metadata": {
    "collapsed": false
   },
   "outputs": [
    {
     "name": "stdout",
     "output_type": "stream",
     "text": [
      "('WEIGHT ', (16, 1, 5, 5))\n",
      "Before pruning------->\n",
      "400\n",
      "After pruning------->\n",
      "382\n",
      "-------------------------------------------------------------------------------\n",
      "('BIAS ', (16,))\n",
      "Before pruning------->\n",
      "16\n",
      "After pruning------->\n",
      "16\n",
      "-------------------------------------------------------------------------------\n",
      "('WEIGHT ', (16,))\n",
      "Before pruning------->\n",
      "16\n",
      "After pruning------->\n",
      "16\n",
      "-------------------------------------------------------------------------------\n",
      "('BIAS ', (16,))\n",
      "Before pruning------->\n",
      "16\n",
      "After pruning------->\n",
      "15\n",
      "-------------------------------------------------------------------------------\n",
      "('WEIGHT ', (16, 16, 3, 3))\n",
      "Before pruning------->\n",
      "2304\n",
      "After pruning------->\n",
      "2078\n",
      "-------------------------------------------------------------------------------\n",
      "('BIAS ', (16,))\n",
      "Before pruning------->\n",
      "16\n",
      "After pruning------->\n",
      "12\n",
      "-------------------------------------------------------------------------------\n",
      "('WEIGHT ', (16,))\n",
      "Before pruning------->\n",
      "16\n",
      "After pruning------->\n",
      "16\n",
      "-------------------------------------------------------------------------------\n",
      "('BIAS ', (16,))\n",
      "Before pruning------->\n",
      "16\n",
      "After pruning------->\n",
      "15\n",
      "-------------------------------------------------------------------------------\n",
      "('WEIGHT ', (32, 16, 3, 3))\n",
      "Before pruning------->\n",
      "4608\n",
      "After pruning------->\n",
      "4092\n",
      "-------------------------------------------------------------------------------\n",
      "('BIAS ', (32,))\n",
      "Before pruning------->\n",
      "32\n",
      "After pruning------->\n",
      "30\n",
      "-------------------------------------------------------------------------------\n",
      "('WEIGHT ', (32,))\n",
      "Before pruning------->\n",
      "32\n",
      "After pruning------->\n",
      "32\n",
      "-------------------------------------------------------------------------------\n",
      "('BIAS ', (32,))\n",
      "Before pruning------->\n",
      "32\n",
      "After pruning------->\n",
      "32\n",
      "-------------------------------------------------------------------------------\n",
      "('WEIGHT ', (300, 1568))\n",
      "Before pruning------->\n",
      "470400\n",
      "After pruning------->\n",
      "355954\n",
      "-------------------------------------------------------------------------------\n",
      "('BIAS ', (300,))\n",
      "Before pruning------->\n",
      "300\n",
      "After pruning------->\n",
      "201\n",
      "-------------------------------------------------------------------------------\n",
      "('WEIGHT ', (10, 300))\n",
      "Before pruning------->\n",
      "3000\n",
      "After pruning------->\n",
      "2547\n",
      "-------------------------------------------------------------------------------\n",
      "('BIAS ', (10,))\n",
      "Before pruning------->\n",
      "10\n",
      "After pruning------->\n",
      "9\n",
      "-------------------------------------------------------------------------------\n"
     ]
    }
   ],
   "source": [
    "threshold = 0.01\n",
    "prune_weight(net,threshold)"
   ]
  },
  {
   "cell_type": "markdown",
   "metadata": {},
   "source": [
    "Training the network again using the regularizer. The loss is modified as \n",
    "\n",
    "$$\n",
    "loss = loss + regularized\\_loss\n",
    "$$"
   ]
  },
  {
   "cell_type": "code",
   "execution_count": 16,
   "metadata": {
    "collapsed": false
   },
   "outputs": [
    {
     "name": "stdout",
     "output_type": "stream",
     "text": [
      "Epoch: 1, Loss: 562.8552, Accuracy: 0.9534\n",
      "Epoch: 2, Loss: 238.0321, Accuracy: 0.9751\n",
      "Epoch: 3, Loss: 192.0961, Accuracy: 0.9795\n",
      "Epoch: 4, Loss: 174.6365, Accuracy: 0.9801\n",
      "Epoch: 5, Loss: 162.8995, Accuracy: 0.9813\n",
      "Test Accuracy of the network on the 10000 test images: 98.37 %\n"
     ]
    }
   ],
   "source": [
    "reset = True\n",
    "use_reg = True\n",
    "net = training(net, reset)\n",
    "testing(net)"
   ]
  },
  {
   "cell_type": "markdown",
   "metadata": {},
   "source": [
    "<b>Visualizing the weight distributions with the regularized loss</b>"
   ]
  },
  {
   "cell_type": "code",
   "execution_count": 17,
   "metadata": {
    "collapsed": false
   },
   "outputs": [
    {
     "name": "stdout",
     "output_type": "stream",
     "text": [
      "Maximum value of learnt weights: 0.124735\n",
      "Minimum value of learnt weights: -0.2234\n"
     ]
    },
    {
     "data": {
      "image/png": "[encoded data removed]",
      "text/plain": [
       "<matplotlib.figure.Figure at 0x7fc42015e590>"
      ]
     },
     "metadata": {},
     "output_type": "display_data"
    },
    {
     "name": "stdout",
     "output_type": "stream",
     "text": [
      "Maximum value of learnt weights: 0.423269\n",
      "Minimum value of learnt weights: -0.353919\n"
     ]
    },
    {
     "data": {
      "image/png": "[encoded data removed]",
      "text/plain": [
       "<matplotlib.figure.Figure at 0x7fc4201cda90>"
      ]
     },
     "metadata": {},
     "output_type": "display_data"
    },
    {
     "name": "stdout",
     "output_type": "stream",
     "text": [
      "Maximum value of learnt weights: 0.615955\n",
      "Minimum value of learnt weights: -0.616721\n"
     ]
    },
    {
     "data": {
      "image/png": "[encoded data removed]",
      "text/plain": [
       "<matplotlib.figure.Figure at 0x7fc4201f3a10>"
      ]
     },
     "metadata": {},
     "output_type": "display_data"
    }
   ],
   "source": [
    "weightdistribution(net.state_dict()['layer2.0.weight'].cpu().numpy().flatten())\n",
    "weightdistribution(net.state_dict()['fc1.weight'].cpu().numpy().flatten())\n",
    "weightdistribution(net.state_dict()['fc2.weight'].cpu().numpy().flatten())"
   ]
  },
  {
   "cell_type": "markdown",
   "metadata": {},
   "source": [
    "By using the L1 Regularizer, we see that we have forced the network to learn weights within a constrained subspace. Since more number of weights are closer to 0, it is evident that we will be able to make more weights 0 by using the same threshold as before. This, therefore ensures sparsity in every layer of the network.\n",
    "\n",
    "An interesting observation is that the netowrk tells us that it does not require biases for certain layers."
   ]
  },
  {
   "cell_type": "code",
   "execution_count": 18,
   "metadata": {
    "collapsed": false
   },
   "outputs": [
    {
     "name": "stdout",
     "output_type": "stream",
     "text": [
      "('WEIGHT ', (16, 1, 5, 5))\n",
      "Before pruning------->\n",
      "400\n",
      "After pruning------->\n",
      "163\n",
      "-------------------------------------------------------------------------------\n",
      "('BIAS ', (16,))\n",
      "Before pruning------->\n",
      "16\n",
      "After pruning------->\n",
      "0\n",
      "-------------------------------------------------------------------------------\n",
      "('WEIGHT ', (16,))\n",
      "Before pruning------->\n",
      "16\n",
      "After pruning------->\n",
      "12\n",
      "-------------------------------------------------------------------------------\n",
      "('BIAS ', (16,))\n",
      "Before pruning------->\n",
      "16\n",
      "After pruning------->\n",
      "5\n",
      "-------------------------------------------------------------------------------\n",
      "('WEIGHT ', (16, 16, 3, 3))\n",
      "Before pruning------->\n",
      "2304\n",
      "After pruning------->\n",
      "323\n",
      "-------------------------------------------------------------------------------\n",
      "('BIAS ', (16,))\n",
      "Before pruning------->\n",
      "16\n",
      "After pruning------->\n",
      "0\n",
      "-------------------------------------------------------------------------------\n",
      "('WEIGHT ', (16,))\n",
      "Before pruning------->\n",
      "16\n",
      "After pruning------->\n",
      "12\n",
      "-------------------------------------------------------------------------------\n",
      "('BIAS ', (16,))\n",
      "Before pruning------->\n",
      "16\n",
      "After pruning------->\n",
      "9\n",
      "-------------------------------------------------------------------------------\n",
      "('WEIGHT ', (32, 16, 3, 3))\n",
      "Before pruning------->\n",
      "4608\n",
      "After pruning------->\n",
      "300\n",
      "-------------------------------------------------------------------------------\n",
      "('BIAS ', (32,))\n",
      "Before pruning------->\n",
      "32\n",
      "After pruning------->\n",
      "0\n",
      "-------------------------------------------------------------------------------\n",
      "('WEIGHT ', (32,))\n",
      "Before pruning------->\n",
      "32\n",
      "After pruning------->\n",
      "15\n",
      "-------------------------------------------------------------------------------\n",
      "('BIAS ', (32,))\n",
      "Before pruning------->\n",
      "32\n",
      "After pruning------->\n",
      "1\n",
      "-------------------------------------------------------------------------------\n",
      "('WEIGHT ', (300, 1568))\n",
      "Before pruning------->\n",
      "470400\n",
      "After pruning------->\n",
      "749\n",
      "-------------------------------------------------------------------------------\n",
      "('BIAS ', (300,))\n",
      "Before pruning------->\n",
      "300\n",
      "After pruning------->\n",
      "0\n",
      "-------------------------------------------------------------------------------\n",
      "('WEIGHT ', (10, 300))\n",
      "Before pruning------->\n",
      "3000\n",
      "After pruning------->\n",
      "161\n",
      "-------------------------------------------------------------------------------\n",
      "('BIAS ', (10,))\n",
      "Before pruning------->\n",
      "10\n",
      "After pruning------->\n",
      "0\n",
      "-------------------------------------------------------------------------------\n"
     ]
    }
   ],
   "source": [
    "threshold = 0.01\n",
    "prune_weight(net,threshold)"
   ]
  },
  {
   "cell_type": "markdown",
   "metadata": {
    "collapsed": true
   },
   "source": [
    "### References\n",
    "\n",
    "1. http://www.pyimagesearch.com/2016/09/19/understanding-regularization-for-image-classification-and-machine-learning/"
   ]
  },
  {
   "cell_type": "code",
   "execution_count": null,
   "metadata": {
    "collapsed": true
   },
   "outputs": [],
   "source": []
  }
 ],
 "metadata": {
  "kernelspec": {
   "display_name": "Python [Root]",
   "language": "python",
   "name": "Python [Root]"
  },
  "language_info": {
   "codemirror_mode": {
    "name": "ipython",
    "version": 2
   },
   "file_extension": ".py",
   "mimetype": "text/x-python",
   "name": "python",
   "nbconvert_exporter": "python",
   "pygments_lexer": "ipython2",
   "version": "2.7.12"
  }
 },
 "nbformat": 4,
 "nbformat_minor": 0
}
