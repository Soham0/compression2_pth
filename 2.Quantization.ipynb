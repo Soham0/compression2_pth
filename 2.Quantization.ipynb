{
 "cells": [
  {
   "cell_type": "markdown",
   "metadata": {},
   "source": [
    "## Weight Quantization\n",
    "\n",
    "Neural network models can take up a lot of space on disk, with the original AlexNet being over 200 MB in float format for example. Almost all of that size is taken up with the weights for the neural connections, since there are often many millions of these in a single model. Because they're all slightly different floating point numbers, simple compression formats like zip don't compress them well.\n",
    "\n",
    "Training neural networks is done by applying many tiny nudges to the weights, and these small increments typically need floating point precision to work. Taking a pre-trained model and running inference is very different. If you think about recognizing an object in a photo you've just taken, the network has to ignore all the noise, lighting changes, and other non-essential differences between it and the training examples it's seen before, and focus on the important similarities instead. This ability means that they seem to treat low-precision calculations as just another source of noise, and still produce accurate results even with numerical formats that hold less information.\n",
    "\n",
    "Once again we do our regular imports.\n",
    "\n"
   ]
  },
  {
   "cell_type": "code",
   "execution_count": 4,
   "metadata": {
    "collapsed": true
   },
   "outputs": [],
   "source": [
    "import numpy as np\n",
    "np.random.seed(1337)  # for reproducibility\n",
    "from sklearn.cluster import KMeans\n",
    "import torch \n",
    "import torchvision\n",
    "import torch.nn as nn\n",
    "import torchvision.datasets as dsets\n",
    "import torchvision.transforms as transforms\n",
    "from torch.autograd import Variable\n",
    "%matplotlib inline\n",
    "import matplotlib.pyplot as plt"
   ]
  },
  {
   "cell_type": "markdown",
   "metadata": {},
   "source": [
    "### Hyperparameters"
   ]
  },
  {
   "cell_type": "code",
   "execution_count": 5,
   "metadata": {
    "collapsed": true
   },
   "outputs": [],
   "source": [
    "num_epochs = 5\n",
    "batch_size = 100\n",
    "learning_rate = 0.001\n",
    "use_reg = True"
   ]
  },
  {
   "cell_type": "markdown",
   "metadata": {},
   "source": [
    "### Downloading the MNIST dataset"
   ]
  },
  {
   "cell_type": "code",
   "execution_count": 6,
   "metadata": {
    "collapsed": false
   },
   "outputs": [
    {
     "name": "stdout",
     "output_type": "stream",
     "text": [
      "Files already downloaded\n"
     ]
    }
   ],
   "source": [
    "train_dataset = dsets.MNIST(root='../../data/lab6',\n",
    "                            train=True, \n",
    "                            transform=transforms.ToTensor(),\n",
    "                            download=True)\n",
    "\n",
    "test_dataset = dsets.MNIST(root='../../data/lab6',\n",
    "                           train=False, \n",
    "                           transform=transforms.ToTensor())"
   ]
  },
  {
   "cell_type": "markdown",
   "metadata": {},
   "source": [
    "### Dataloader"
   ]
  },
  {
   "cell_type": "code",
   "execution_count": 7,
   "metadata": {
    "collapsed": true
   },
   "outputs": [],
   "source": [
    "train_loader = torch.utils.data.DataLoader(dataset=train_dataset,\n",
    "                                           batch_size=batch_size, \n",
    "                                           shuffle=True)\n",
    "\n",
    "test_loader = torch.utils.data.DataLoader(dataset=test_dataset,\n",
    "                                          batch_size=batch_size, \n",
    "                                          shuffle=False)"
   ]
  },
  {
   "cell_type": "markdown",
   "metadata": {},
   "source": [
    "### Define the network"
   ]
  },
  {
   "cell_type": "code",
   "execution_count": 8,
   "metadata": {
    "collapsed": true
   },
   "outputs": [],
   "source": [
    "class Net(nn.Module):\n",
    "    def __init__(self):\n",
    "        super(Net, self).__init__()\n",
    "        self.layer1 = nn.Sequential(\n",
    "            nn.Conv2d(1, 16, kernel_size=5, padding=2),\n",
    "            nn.BatchNorm2d(16),\n",
    "            nn.ReLU())\n",
    "        self.layer2 = nn.Sequential(\n",
    "            nn.Conv2d(16, 16, kernel_size=3, padding=1),\n",
    "            nn.BatchNorm2d(16),\n",
    "            nn.ReLU(),\n",
    "            nn.MaxPool2d(2))\n",
    "        self.layer3 = nn.Sequential(\n",
    "            nn.Conv2d(16, 32, kernel_size=3, padding=1),\n",
    "            nn.BatchNorm2d(32),\n",
    "            nn.ReLU(),\n",
    "            nn.MaxPool2d(2))\n",
    "        self.fc1 = nn.Linear(7*7*32, 300)\n",
    "        self.fc2 = nn.Linear(300, 10)\n",
    "        \n",
    "    def forward(self, x):\n",
    "        out = self.layer1(x)\n",
    "        out = self.layer2(out)\n",
    "        out = self.layer3(out)\n",
    "        out = out.view(out.size(0), -1)\n",
    "        out = self.fc1(out)\n",
    "        out = self.fc2(out)\n",
    "        return out"
   ]
  },
  {
   "cell_type": "markdown",
   "metadata": {},
   "source": [
    "<b>The below function is called to reinitialize the weights of the network and define the required loss criterion and the optimizer.</b> "
   ]
  },
  {
   "cell_type": "code",
   "execution_count": 9,
   "metadata": {
    "collapsed": true
   },
   "outputs": [],
   "source": [
    "def reset_model():\n",
    "    net = Net()\n",
    "    net = net.cuda()\n",
    "\n",
    "    # Loss and Optimizer\n",
    "    criterion = nn.CrossEntropyLoss()\n",
    "    optimizer = torch.optim.Adam(net.parameters(), lr=learning_rate)\n",
    "    return net,criterion,optimizer"
   ]
  },
  {
   "cell_type": "markdown",
   "metadata": {},
   "source": [
    "### Initializing the model"
   ]
  },
  {
   "cell_type": "code",
   "execution_count": 10,
   "metadata": {
    "collapsed": true
   },
   "outputs": [],
   "source": [
    "net, criterion, optimizer = reset_model()"
   ]
  },
  {
   "cell_type": "markdown",
   "metadata": {},
   "source": [
    "### Defining a L1 Regularizer"
   ]
  },
  {
   "cell_type": "code",
   "execution_count": 11,
   "metadata": {
    "collapsed": true
   },
   "outputs": [],
   "source": [
    "def l1_regularizer(net, loss, beta):\n",
    "    l1_crit = nn.L1Loss(size_average=False)\n",
    "    reg_loss = 0\n",
    "    for param in net.parameters():\n",
    "        target = Variable((torch.FloatTensor(param.size()).zero_()).cuda())\n",
    "        reg_loss += l1_crit(param, target)\n",
    "        \n",
    "    loss += beta * reg_loss\n",
    "    return loss"
   ]
  },
  {
   "cell_type": "markdown",
   "metadata": {},
   "source": [
    "### Training function"
   ]
  },
  {
   "cell_type": "code",
   "execution_count": 12,
   "metadata": {
    "collapsed": false
   },
   "outputs": [],
   "source": [
    "# Train the Model\n",
    "\n",
    "def training(net, reset = True):\n",
    "    if reset == True:\n",
    "        net, criterion, optimizer = reset_model()\n",
    "    else:\n",
    "        criterion = nn.CrossEntropyLoss()\n",
    "        optimizer = torch.optim.Adam(net.parameters(), lr=learning_rate)\n",
    "    \n",
    "    net.train()\n",
    "    for epoch in range(num_epochs):\n",
    "        total_loss = 0\n",
    "        accuracy = []\n",
    "        for i, (images, labels) in enumerate(train_loader):\n",
    "            images = images.cuda()\n",
    "            labels = labels.cuda()\n",
    "            temp_labels = labels\n",
    "            images = Variable(images)\n",
    "            labels = Variable(labels)\n",
    "\n",
    "            # Forward + Backward + Optimize\n",
    "            optimizer.zero_grad()\n",
    "            outputs = net(images)\n",
    "            loss = criterion(outputs, labels)\n",
    "\n",
    "            if use_reg == True :\n",
    "                loss = l1_regularizer(net,loss,beta=0.001)\n",
    "\n",
    "            loss.backward()\n",
    "            optimizer.step()\n",
    "\n",
    "            total_loss += loss.data[0]\n",
    "            _, predicted = torch.max(outputs.data, 1)\n",
    "            correct = (predicted == temp_labels).sum()\n",
    "            accuracy.append(correct/float(batch_size))\n",
    "\n",
    "        print('Epoch: %d, Loss: %.4f, Accuracy: %.4f' %(epoch+1,total_loss, (sum(accuracy)/float(len(accuracy)))))\n",
    "    \n",
    "    return net"
   ]
  },
  {
   "cell_type": "markdown",
   "metadata": {},
   "source": [
    "### Testing function"
   ]
  },
  {
   "cell_type": "code",
   "execution_count": 13,
   "metadata": {
    "collapsed": false
   },
   "outputs": [],
   "source": [
    "# Test the Model\n",
    "def testing(net):\n",
    "    net.eval() \n",
    "    correct = 0\n",
    "    total = 0\n",
    "    for images, labels in test_loader:\n",
    "        images = images.cuda()\n",
    "        labels = labels.cuda()\n",
    "        images = Variable(images)\n",
    "        outputs = net(images)\n",
    "        _, predicted = torch.max(outputs.data, 1)\n",
    "        total += labels.size(0)\n",
    "        correct += (predicted == labels).sum()\n",
    "\n",
    "    print('Test Accuracy of the network on the 10000 test images: %.2f %%' % (100.0 * correct / total))"
   ]
  },
  {
   "cell_type": "markdown",
   "metadata": {},
   "source": [
    "### Training and testing the network"
   ]
  },
  {
   "cell_type": "code",
   "execution_count": 14,
   "metadata": {
    "collapsed": false
   },
   "outputs": [
    {
     "name": "stdout",
     "output_type": "stream",
     "text": [
      "Epoch: 1, Loss: 592.2687, Accuracy: 0.9522\n",
      "Epoch: 2, Loss: 231.6676, Accuracy: 0.9769\n",
      "Epoch: 3, Loss: 191.3403, Accuracy: 0.9789\n",
      "Epoch: 4, Loss: 173.4457, Accuracy: 0.9804\n",
      "Epoch: 5, Loss: 164.5340, Accuracy: 0.9814\n",
      "Test Accuracy of the network on the 10000 test images: 98.12 %\n"
     ]
    }
   ],
   "source": [
    "reset = True\n",
    "net = training(net, reset)\n",
    "testing(net)"
   ]
  },
  {
   "cell_type": "markdown",
   "metadata": {},
   "source": [
    "### Uniform Quantization\n",
    "\n",
    "The simplest motivation for quantization is to shrink file sizes by storing the min and max for each layer, and then compressing each float value to an eight-bit integer representing the closest real number in a linear set of 256 within the range.\n",
    "\n",
    "In the function below we send 8 bits as input which ressembles that the weights of the network should be represented with only 8 bits while storing to disk. In other words we use only 2^8 or 256 clusters. Hence each weight is represented as a 8-bit integer between 0-255.\n",
    "\n",
    "Thus before using the weights during test time they need to be projected into the original weight space by using the following equation:\n",
    "\n",
    "$$\n",
    "W_{i} = min + \\dfrac{max-min}{255}*W_{index}\n",
    "$$"
   ]
  },
  {
   "cell_type": "code",
   "execution_count": 15,
   "metadata": {
    "collapsed": true
   },
   "outputs": [],
   "source": [
    "def uniform_quantize(weight, bits):\n",
    "    print('-------------------------LAYER---------------------------')\n",
    "    print(\"Number of unique parameters before quantization: \" + str(len(np.unique(weight))))\n",
    "    n_clusters = 2**bits\n",
    "    \n",
    "    maxim = np.amax(weight)\n",
    "    minim = np.amin(weight)\n",
    "    step= (maxim-minim)/(n_clusters - 1)\n",
    "\n",
    "    clusters=[]\n",
    "\n",
    "    for i in range(0,n_clusters):\n",
    "        clusters.append(minim)\n",
    "        minim+=step\n",
    "\n",
    "    for i in range(0,len(weight)):\n",
    "        dist= (clusters-weight[i])**2     \n",
    "        weight[i]=clusters[np.argmin(dist)]\n",
    "        \n",
    "    print(\"Number of unique parameters after quantization: \" + str(len(np.unique(weight))))\n",
    "    \n",
    "    return weight  "
   ]
  },
  {
   "cell_type": "markdown",
   "metadata": {},
   "source": [
    "### Uniform Quantization\n",
    "\n",
    "Different number of bits can be used for representing the weights and biases. The exact number of bits to use is a design choice and may depend on the complexity of the task at hand since using too less number of bits can result in poor performance. Here, we use 8 bits for quantizing the weights and 1 bit for the biases."
   ]
  },
  {
   "cell_type": "code",
   "execution_count": 16,
   "metadata": {
    "collapsed": false
   },
   "outputs": [
    {
     "name": "stdout",
     "output_type": "stream",
     "text": [
      "-------------------------LAYER---------------------------\n",
      "Number of unique parameters before quantization: 400\n",
      "Number of unique parameters after quantization: 122\n",
      "-------------------------LAYER---------------------------\n",
      "Number of unique parameters before quantization: 16\n",
      "Number of unique parameters after quantization: 2\n",
      "-------------------------LAYER---------------------------\n",
      "Number of unique parameters before quantization: 16\n",
      "Number of unique parameters after quantization: 11\n",
      "-------------------------LAYER---------------------------\n",
      "Number of unique parameters before quantization: 16\n",
      "Number of unique parameters after quantization: 2\n",
      "-------------------------LAYER---------------------------\n",
      "Number of unique parameters before quantization: 2304\n",
      "Number of unique parameters after quantization: 136\n",
      "-------------------------LAYER---------------------------\n",
      "Number of unique parameters before quantization: 16\n",
      "Number of unique parameters after quantization: 2\n",
      "-------------------------LAYER---------------------------\n",
      "Number of unique parameters before quantization: 16\n",
      "Number of unique parameters after quantization: 13\n",
      "-------------------------LAYER---------------------------\n",
      "Number of unique parameters before quantization: 16\n",
      "Number of unique parameters after quantization: 2\n",
      "-------------------------LAYER---------------------------\n",
      "Number of unique parameters before quantization: 4608\n",
      "Number of unique parameters after quantization: 118\n",
      "-------------------------LAYER---------------------------\n",
      "Number of unique parameters before quantization: 32\n",
      "Number of unique parameters after quantization: 2\n",
      "-------------------------LAYER---------------------------\n",
      "Number of unique parameters before quantization: 32\n",
      "Number of unique parameters after quantization: 15\n",
      "-------------------------LAYER---------------------------\n",
      "Number of unique parameters before quantization: 32\n",
      "Number of unique parameters after quantization: 2\n",
      "-------------------------LAYER---------------------------\n",
      "Number of unique parameters before quantization: 468997\n",
      "Number of unique parameters after quantization: 153\n",
      "-------------------------LAYER---------------------------\n",
      "Number of unique parameters before quantization: 300\n",
      "Number of unique parameters after quantization: 2\n",
      "-------------------------LAYER---------------------------\n",
      "Number of unique parameters before quantization: 3000\n",
      "Number of unique parameters after quantization: 110\n",
      "-------------------------LAYER---------------------------\n",
      "Number of unique parameters before quantization: 10\n",
      "Number of unique parameters after quantization: 2\n"
     ]
    }
   ],
   "source": [
    "for m in net.modules():\n",
    "    if isinstance(m,nn.Conv2d) or isinstance(m,nn.BatchNorm2d) or isinstance(m,nn.Linear):\n",
    "        temp_weight = m.weight.data.cpu().numpy()\n",
    "        dims = temp_weight.shape\n",
    "        temp_weight = temp_weight.flatten()\n",
    "        temp_weight = uniform_quantize(temp_weight, 8)\n",
    "        temp_weight=np.reshape(temp_weight,dims)\n",
    "        m.weight.data = (torch.FloatTensor(temp_weight).cuda())\n",
    "        \n",
    "        temp_bias = m.bias.data.cpu().numpy()\n",
    "        dims = temp_bias.shape\n",
    "        temp_bias = temp_bias.flatten()\n",
    "        temp_bias = uniform_quantize(temp_bias, 1)\n",
    "        temp_bias = np.reshape(temp_bias,dims)\n",
    "        m.bias.data = (torch.FloatTensor(temp_bias).cuda())"
   ]
  },
  {
   "cell_type": "markdown",
   "metadata": {},
   "source": [
    "Now that we have replaced the weight matrix with the approximated weight of the nearest cluster, we can test the network with the modified weights."
   ]
  },
  {
   "cell_type": "code",
   "execution_count": 17,
   "metadata": {
    "collapsed": false
   },
   "outputs": [
    {
     "name": "stdout",
     "output_type": "stream",
     "text": [
      "Test Accuracy of the network on the 10000 test images: 98.30 %\n"
     ]
    }
   ],
   "source": [
    "testing(net)"
   ]
  },
  {
   "cell_type": "markdown",
   "metadata": {},
   "source": [
    "## Non-uniform quantization\n",
    "\n",
    "We have seen in the previous method that we divide the weight space into equally partitioned cluster heads. However, instead of forcing the cluster heads to be equally spaced it would make more sense to learn them. A common and obvious practice is to learn the weight space as a distribution of cluseter centers using k-means clustering. Here, we define a function to perform k-means to the weight values.\n",
    "\n",
    "$$\n",
    "min\\sum_{i}^{mn}\\sum_{j}^{k}||w_{i}-c_{j}||_{2}^{2}\n",
    "$$"
   ]
  },
  {
   "cell_type": "code",
   "execution_count": 18,
   "metadata": {
    "collapsed": true
   },
   "outputs": [],
   "source": [
    "num_clusters = 8\n",
    "kmeans = KMeans(n_clusters=num_clusters, random_state=0,  max_iter=500, precompute_distances='auto', verbose=0)"
   ]
  },
  {
   "cell_type": "code",
   "execution_count": 19,
   "metadata": {
    "collapsed": true
   },
   "outputs": [],
   "source": [
    "def non_uniform_quantize(weights):\n",
    "    print(\"---------------------------Layer--------------------------------\")\n",
    "    print(\"Number of unique parameters before quantization: \" + str(len(np.unique(weights))))\n",
    "    weights = np.reshape(weights,[weights.shape[0],1])\n",
    "    print(weights.shape)\n",
    "    kmeans_fit = kmeans.fit(weights)\n",
    "    clusters = kmeans_fit.cluster_centers_\n",
    "    \n",
    "    for i in range(0,len(weights)):\n",
    "        dist= (clusters-weights[i])**2     \n",
    "        weights[i]=clusters[np.argmin(dist)]\n",
    "        \n",
    "    print(\"Number of unique parameters after quantization: \" + str(len(np.unique(weights))))\n",
    "    \n",
    "    return weights  "
   ]
  },
  {
   "cell_type": "markdown",
   "metadata": {},
   "source": [
    "We reset the model and train the network since we had earlier done uniform quantization on the weight already."
   ]
  },
  {
   "cell_type": "code",
   "execution_count": 20,
   "metadata": {
    "collapsed": false
   },
   "outputs": [
    {
     "name": "stdout",
     "output_type": "stream",
     "text": [
      "Epoch: 1, Loss: 549.0652, Accuracy: 0.9510\n",
      "Epoch: 2, Loss: 243.9295, Accuracy: 0.9738\n",
      "Epoch: 3, Loss: 201.0722, Accuracy: 0.9773\n",
      "Epoch: 4, Loss: 179.7706, Accuracy: 0.9792\n",
      "Epoch: 5, Loss: 163.9932, Accuracy: 0.9803\n",
      "Test Accuracy of the network on the 10000 test images: 97.17 %\n"
     ]
    }
   ],
   "source": [
    "reset = True\n",
    "net = training(net, reset)\n",
    "testing(net)"
   ]
  },
  {
   "cell_type": "markdown",
   "metadata": {},
   "source": [
    "Uniform quantization on the weights and biases"
   ]
  },
  {
   "cell_type": "code",
   "execution_count": 21,
   "metadata": {
    "collapsed": false
   },
   "outputs": [
    {
     "name": "stdout",
     "output_type": "stream",
     "text": [
      "---------------------------Layer--------------------------------\n",
      "Number of unique parameters before quantization: 400\n",
      "(400, 1)\n",
      "Number of unique parameters after quantization: 8\n",
      "---------------------------Layer--------------------------------\n",
      "Number of unique parameters before quantization: 16\n",
      "(16, 1)\n",
      "Number of unique parameters after quantization: 8\n",
      "---------------------------Layer--------------------------------\n",
      "Number of unique parameters before quantization: 16\n",
      "(16, 1)\n",
      "Number of unique parameters after quantization: 8\n",
      "---------------------------Layer--------------------------------\n",
      "Number of unique parameters before quantization: 16\n",
      "(16, 1)\n",
      "Number of unique parameters after quantization: 8\n",
      "---------------------------Layer--------------------------------\n",
      "Number of unique parameters before quantization: 2304\n",
      "(2304, 1)\n",
      "Number of unique parameters after quantization: 8\n",
      "---------------------------Layer--------------------------------\n",
      "Number of unique parameters before quantization: 16\n",
      "(16, 1)\n",
      "Number of unique parameters after quantization: 8\n",
      "---------------------------Layer--------------------------------\n",
      "Number of unique parameters before quantization: 16\n",
      "(16, 1)\n",
      "Number of unique parameters after quantization: 8\n",
      "---------------------------Layer--------------------------------\n",
      "Number of unique parameters before quantization: 16\n",
      "(16, 1)\n",
      "Number of unique parameters after quantization: 8\n",
      "---------------------------Layer--------------------------------\n",
      "Number of unique parameters before quantization: 4608\n",
      "(4608, 1)\n",
      "Number of unique parameters after quantization: 8\n",
      "---------------------------Layer--------------------------------\n",
      "Number of unique parameters before quantization: 32\n",
      "(32, 1)\n",
      "Number of unique parameters after quantization: 8\n",
      "---------------------------Layer--------------------------------\n",
      "Number of unique parameters before quantization: 32\n",
      "(32, 1)\n",
      "Number of unique parameters after quantization: 8\n",
      "---------------------------Layer--------------------------------\n",
      "Number of unique parameters before quantization: 32\n",
      "(32, 1)\n",
      "Number of unique parameters after quantization: 8\n",
      "---------------------------Layer--------------------------------\n",
      "Number of unique parameters before quantization: 469000\n",
      "(470400, 1)\n",
      "Number of unique parameters after quantization: 8\n",
      "---------------------------Layer--------------------------------\n",
      "Number of unique parameters before quantization: 300\n",
      "(300, 1)\n",
      "Number of unique parameters after quantization: 8\n",
      "---------------------------Layer--------------------------------\n",
      "Number of unique parameters before quantization: 3000\n",
      "(3000, 1)\n",
      "Number of unique parameters after quantization: 8\n",
      "---------------------------Layer--------------------------------\n",
      "Number of unique parameters before quantization: 10\n",
      "(10, 1)\n",
      "Number of unique parameters after quantization: 8\n"
     ]
    }
   ],
   "source": [
    "for m in net.modules():\n",
    "    if isinstance(m,nn.Conv2d) or isinstance(m,nn.BatchNorm2d) or isinstance(m,nn.Linear):\n",
    "        temp_weight = m.weight.data.cpu().numpy()\n",
    "        dims = temp_weight.shape\n",
    "        temp_weight = temp_weight.flatten()\n",
    "        temp_weight = non_uniform_quantize(temp_weight)\n",
    "        temp_weight=np.reshape(temp_weight,dims)\n",
    "        m.weight.data = (torch.FloatTensor(temp_weight).cuda())\n",
    "        \n",
    "        temp_bias = m.bias.data.cpu().numpy()\n",
    "        dims = temp_bias.shape\n",
    "        temp_bias = temp_bias.flatten()\n",
    "        temp_bias = non_uniform_quantize(temp_bias)\n",
    "        temp_bias = np.reshape(temp_bias,dims)\n",
    "        m.bias.data = (torch.FloatTensor(temp_bias).cuda())"
   ]
  },
  {
   "cell_type": "code",
   "execution_count": 22,
   "metadata": {
    "collapsed": false
   },
   "outputs": [
    {
     "name": "stdout",
     "output_type": "stream",
     "text": [
      "Test Accuracy of the network on the 10000 test images: 97.61 %\n"
     ]
    }
   ],
   "source": [
    "testing(net)"
   ]
  },
  {
   "cell_type": "markdown",
   "metadata": {},
   "source": [
    "### Retraining the network\n",
    "\n",
    "Here we see that 8 clusters are too less in order to maintain the network at the same accuracy since we see almost a 3% drop in performance. One of the solutions is to retrain the network. This helps the other weights to compensate for those weights which on being rounded off to the nearest cluster center have resulted in a drop in performance. Accuracy can be recovered significantly on retraining the network and then non-uniformly quantizing the weights again.\n",
    "\n",
    "#### Excercise"
   ]
  },
  {
   "cell_type": "code",
   "execution_count": 23,
   "metadata": {
    "collapsed": false
   },
   "outputs": [],
   "source": [
    "# reset = False\n",
    "# net = training(net, reset)\n",
    "# perform non-uniform quantization\n",
    "# test(net)"
   ]
  },
  {
   "cell_type": "code",
   "execution_count": null,
   "metadata": {
    "collapsed": true
   },
   "outputs": [],
   "source": []
  },
  {
   "cell_type": "markdown",
   "metadata": {},
   "source": [
    "### References\n",
    "\n",
    "1. https://arxiv.org/pdf/1412.6115.pdf"
   ]
  },
  {
   "cell_type": "code",
   "execution_count": null,
   "metadata": {
    "collapsed": true
   },
   "outputs": [],
   "source": []
  }
 ],
 "metadata": {
  "kernelspec": {
   "display_name": "Python [Root]",
   "language": "python",
   "name": "Python [Root]"
  },
  "language_info": {
   "codemirror_mode": {
    "name": "ipython",
    "version": 2
   },
   "file_extension": ".py",
   "mimetype": "text/x-python",
   "name": "python",
   "nbconvert_exporter": "python",
   "pygments_lexer": "ipython2",
   "version": "2.7.12"
  }
 },
 "nbformat": 4,
 "nbformat_minor": 0
}
